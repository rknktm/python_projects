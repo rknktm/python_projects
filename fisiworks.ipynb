{
 "cells": [
  {
   "cell_type": "code",
   "execution_count": 2,
   "id": "6862302f",
   "metadata": {},
   "outputs": [
    {
     "name": "stdout",
     "output_type": "stream",
     "text": [
      "[1, 1, 2, 3, 5, 8, 13, 21, 34, 55, 89]\n"
     ]
    }
   ],
   "source": [
    "liste = [1,1]\n",
    "i =1\n",
    "while True:\n",
    "    next = liste[i-1]+liste[i]\n",
    "    i +=1\n",
    "    if next > 100:\n",
    "        break\n",
    "    else:\n",
    "        liste.append(next)\n",
    "print(liste)\n",
    "\n",
    "    "
   ]
  },
  {
   "cell_type": "code",
   "execution_count": 15,
   "id": "26468cae",
   "metadata": {},
   "outputs": [
    {
     "name": "stdout",
     "output_type": "stream",
     "text": [
      "[1, 1, 2, 3, 5, 8, 13, 21, 34, 55, 89]\n"
     ]
    }
   ],
   "source": [
    "list = [1,1]\n",
    "for i in range(1,10):\n",
    "    next = list[i-1]+list[i]\n",
    "    list.append(next)\n",
    "print (list)\n"
   ]
  },
  {
   "cell_type": "code",
   "execution_count": 29,
   "id": "87d0cf24",
   "metadata": {},
   "outputs": [
    {
     "name": "stdout",
     "output_type": "stream",
     "text": [
      "Now sum is 1\n",
      "Now sum is 3\n",
      "Now sum is 6\n",
      "Now sum is 10\n",
      "Now sum is 15\n",
      "Now sum is 21\n",
      "Now sum is 28\n",
      "Now sum is 36\n",
      "Now sum is 45\n",
      "Now sum is 55\n",
      "Geschaft!!!\n"
     ]
    }
   ],
   "source": [
    "y=0\n",
    "for i in range(1,11):\n",
    "    y = y + i\n",
    "    print (\"Now sum is\",y)\n",
    "print (\"Geschaft!!!\")\n"
   ]
  },
  {
   "cell_type": "code",
   "execution_count": null,
   "id": "9480bd95",
   "metadata": {},
   "outputs": [],
   "source": []
  }
 ],
 "metadata": {
  "kernelspec": {
   "display_name": "Python 3",
   "language": "python",
   "name": "python3"
  },
  "language_info": {
   "codemirror_mode": {
    "name": "ipython",
    "version": 3
   },
   "file_extension": ".py",
   "mimetype": "text/x-python",
   "name": "python",
   "nbconvert_exporter": "python",
   "pygments_lexer": "ipython3",
   "version": "3.13.3"
  }
 },
 "nbformat": 4,
 "nbformat_minor": 5
}

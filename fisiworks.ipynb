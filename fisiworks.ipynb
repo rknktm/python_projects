{
 "cells": [
  {
   "cell_type": "code",
   "execution_count": 46,
   "id": "6862302f",
   "metadata": {},
   "outputs": [
    {
     "name": "stdout",
     "output_type": "stream",
     "text": [
      "[1, 1, 2, 3, 5, 8, 13, 21, 34, 55, 89]\n"
     ]
    }
   ],
   "source": [
    "#Summe von fibozahl bis 100 \n",
    "liste = [1,1]\n",
    "i =1\n",
    "while True:\n",
    "    next = liste[i-1]+liste[i]\n",
    "    i +=1\n",
    "    if next > 100:\n",
    "        break\n",
    "    else:\n",
    "        liste.append(next)\n",
    "print(liste)\n",
    "\n",
    "    "
   ]
  },
  {
   "cell_type": "code",
   "execution_count": 47,
   "id": "26468cae",
   "metadata": {},
   "outputs": [
    {
     "name": "stdout",
     "output_type": "stream",
     "text": [
      "[1, 1, 2, 3, 5, 8, 13, 21, 34, 55, 89]\n"
     ]
    }
   ],
   "source": [
    "#fibo zahle bis 100\n",
    "list = [1,1]\n",
    "for i in range(1,10):\n",
    "    next = list[i-1]+list[i]\n",
    "    list.append(next)\n",
    "print (list)\n"
   ]
  },
  {
   "cell_type": "code",
   "execution_count": 48,
   "id": "87d0cf24",
   "metadata": {},
   "outputs": [
    {
     "name": "stdout",
     "output_type": "stream",
     "text": [
      "Now sum is 1\n",
      "Now sum is 3\n",
      "Now sum is 6\n",
      "Now sum is 10\n",
      "Now sum is 15\n",
      "Now sum is 21\n",
      "Now sum is 28\n",
      "Now sum is 36\n",
      "Now sum is 45\n",
      "Now sum is 55\n",
      "Geschaft!!!\n"
     ]
    }
   ],
   "source": [
    "#summe bis 10\n",
    "y=0\n",
    "for i in range(1,11):\n",
    "    y = y + i\n",
    "    print (\"Now sum is\",y)\n",
    "print (\"Geschaft!!!\")\n"
   ]
  },
  {
   "cell_type": "code",
   "execution_count": null,
   "id": "9480bd95",
   "metadata": {},
   "outputs": [
    {
     "name": "stdout",
     "output_type": "stream",
     "text": [
      "[2, 3, 5, 7, 11, 13, 17, 19, 23, 29, 31, 37, 41, 43, 47, 53, 59, 61, 67, 71, 73, 79, 83, 89, 97]\n"
     ]
    }
   ],
   "source": [
    "#primzahl\n",
    "list = [2]\n",
    "for i in range(3,101):\n",
    "    check = 0\n",
    "    for n in range(2,i):\n",
    "        if i % n == 0:\n",
    "            check += 1 \n",
    "    if check == 0:\n",
    "        list.append(i)\n",
    "        \n",
    "\n",
    "print(list)"
   ]
  },
  {
   "cell_type": "code",
   "execution_count": null,
   "id": "14ab065e",
   "metadata": {},
   "outputs": [],
   "source": []
  }
 ],
 "metadata": {
  "kernelspec": {
   "display_name": "Python 3",
   "language": "python",
   "name": "python3"
  },
  "language_info": {
   "codemirror_mode": {
    "name": "ipython",
    "version": 3
   },
   "file_extension": ".py",
   "mimetype": "text/x-python",
   "name": "python",
   "nbconvert_exporter": "python",
   "pygments_lexer": "ipython3",
   "version": "3.13.3"
  }
 },
 "nbformat": 4,
 "nbformat_minor": 5
}
